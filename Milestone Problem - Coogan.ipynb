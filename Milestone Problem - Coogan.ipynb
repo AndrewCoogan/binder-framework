{
 "cells": [
  {
   "cell_type": "code",
   "execution_count": 1,
   "metadata": {},
   "outputs": [],
   "source": [
    "import pandas as pd\n",
    "import math\n",
    "import matplotlib.pyplot as plt"
   ]
  },
  {
   "cell_type": "markdown",
   "metadata": {},
   "source": [
    "# Pandas Work"
   ]
  },
  {
   "cell_type": "code",
   "execution_count": 2,
   "metadata": {},
   "outputs": [
    {
     "data": {
      "text/html": [
       "<div>\n",
       "<style scoped>\n",
       "    .dataframe tbody tr th:only-of-type {\n",
       "        vertical-align: middle;\n",
       "    }\n",
       "\n",
       "    .dataframe tbody tr th {\n",
       "        vertical-align: top;\n",
       "    }\n",
       "\n",
       "    .dataframe thead th {\n",
       "        text-align: right;\n",
       "    }\n",
       "</style>\n",
       "<table border=\"1\" class=\"dataframe\">\n",
       "  <thead>\n",
       "    <tr style=\"text-align: right;\">\n",
       "      <th></th>\n",
       "      <th>Company Name</th>\n",
       "      <th>company contact</th>\n",
       "      <th>company email</th>\n",
       "      <th>company phone</th>\n",
       "      <th>Address</th>\n",
       "      <th>City</th>\n",
       "      <th>State</th>\n",
       "      <th>Postcode</th>\n",
       "      <th>Industry</th>\n",
       "      <th>Industry descr</th>\n",
       "      <th>...</th>\n",
       "      <th>Savings from beginning receiving benefits</th>\n",
       "      <th>Borough</th>\n",
       "      <th>Latitude</th>\n",
       "      <th>Longitude</th>\n",
       "      <th>Community Board</th>\n",
       "      <th>Council District</th>\n",
       "      <th>Census Tract</th>\n",
       "      <th>BIN</th>\n",
       "      <th>BBL</th>\n",
       "      <th>NTA</th>\n",
       "    </tr>\n",
       "  </thead>\n",
       "  <tbody>\n",
       "    <tr>\n",
       "      <td>0</td>\n",
       "      <td>1 State Street</td>\n",
       "      <td>David Neiburg</td>\n",
       "      <td>eskoblo@energyspec.com</td>\n",
       "      <td>7186779077</td>\n",
       "      <td>1114 Avenue J</td>\n",
       "      <td>Brooklyn</td>\n",
       "      <td>NY</td>\n",
       "      <td>11230</td>\n",
       "      <td>Commercial</td>\n",
       "      <td>35 story building</td>\n",
       "      <td>...</td>\n",
       "      <td>349.78</td>\n",
       "      <td>Brooklyn</td>\n",
       "      <td>40.624784</td>\n",
       "      <td>-73.964920</td>\n",
       "      <td>314.0</td>\n",
       "      <td>44.0</td>\n",
       "      <td>534.0</td>\n",
       "      <td>3179818.0</td>\n",
       "      <td>3.067130e+09</td>\n",
       "      <td>Midwood</td>\n",
       "    </tr>\n",
       "    <tr>\n",
       "      <td>1</td>\n",
       "      <td>100 Church LLC</td>\n",
       "      <td>Edward A. Carroll</td>\n",
       "      <td>NaN</td>\n",
       "      <td>2125663000</td>\n",
       "      <td>100 Church Street</td>\n",
       "      <td>NY</td>\n",
       "      <td>NY</td>\n",
       "      <td>10007</td>\n",
       "      <td>Commercial</td>\n",
       "      <td>21 Floors</td>\n",
       "      <td>...</td>\n",
       "      <td>4423698.05</td>\n",
       "      <td>New York</td>\n",
       "      <td>40.712968</td>\n",
       "      <td>-74.009490</td>\n",
       "      <td>101.0</td>\n",
       "      <td>1.0</td>\n",
       "      <td>21.0</td>\n",
       "      <td>1001409.0</td>\n",
       "      <td>1.001250e+09</td>\n",
       "      <td>SoHo-TriBeCa-Civic Center-Little Italy</td>\n",
       "    </tr>\n",
       "    <tr>\n",
       "      <td>2</td>\n",
       "      <td>100 Wall Investments</td>\n",
       "      <td>Jerry Branam</td>\n",
       "      <td>NaN</td>\n",
       "      <td>2122487160</td>\n",
       "      <td>96 Wall Street</td>\n",
       "      <td>New York</td>\n",
       "      <td>NY</td>\n",
       "      <td>10005</td>\n",
       "      <td>Landlord</td>\n",
       "      <td>NaN</td>\n",
       "      <td>...</td>\n",
       "      <td>1814542.62</td>\n",
       "      <td>New York</td>\n",
       "      <td>40.705052</td>\n",
       "      <td>-74.007199</td>\n",
       "      <td>101.0</td>\n",
       "      <td>1.0</td>\n",
       "      <td>7.0</td>\n",
       "      <td>1000875.0</td>\n",
       "      <td>1.000380e+09</td>\n",
       "      <td>Battery Park City-Lower Manhattan</td>\n",
       "    </tr>\n",
       "    <tr>\n",
       "      <td>3</td>\n",
       "      <td>1-10 Bush Terminal Owner LP</td>\n",
       "      <td>Andrew Kimball</td>\n",
       "      <td>akimball@industrycity.com</td>\n",
       "      <td>3474178429</td>\n",
       "      <td>220 36th St, Suite 2A</td>\n",
       "      <td>Brooklyn</td>\n",
       "      <td>NY</td>\n",
       "      <td>11232</td>\n",
       "      <td>Landlord</td>\n",
       "      <td>Special Eligible Premises for eligible businesses</td>\n",
       "      <td>...</td>\n",
       "      <td>6755.31</td>\n",
       "      <td>Brooklyn</td>\n",
       "      <td>40.656061</td>\n",
       "      <td>-74.007334</td>\n",
       "      <td>307.0</td>\n",
       "      <td>38.0</td>\n",
       "      <td>2.0</td>\n",
       "      <td>3398687.0</td>\n",
       "      <td>3.006950e+09</td>\n",
       "      <td>Sunset Park West</td>\n",
       "    </tr>\n",
       "    <tr>\n",
       "      <td>4</td>\n",
       "      <td>120 Broadway Acquisitions JV, LLC (Ldmk)</td>\n",
       "      <td>Carl Letich</td>\n",
       "      <td>clettich@silvprop.com</td>\n",
       "      <td>2124064020</td>\n",
       "      <td>120 Broadway</td>\n",
       "      <td>New York</td>\n",
       "      <td>NY</td>\n",
       "      <td>10271</td>\n",
       "      <td>Commercial</td>\n",
       "      <td>NaN</td>\n",
       "      <td>...</td>\n",
       "      <td>3293055.08</td>\n",
       "      <td>New York</td>\n",
       "      <td>40.708546</td>\n",
       "      <td>-74.011041</td>\n",
       "      <td>101.0</td>\n",
       "      <td>1.0</td>\n",
       "      <td>7.0</td>\n",
       "      <td>1001026.0</td>\n",
       "      <td>1.000478e+09</td>\n",
       "      <td>Battery Park City-Lower Manhattan</td>\n",
       "    </tr>\n",
       "  </tbody>\n",
       "</table>\n",
       "<p>5 rows × 26 columns</p>\n",
       "</div>"
      ],
      "text/plain": [
       "                               Company Name    company contact  \\\n",
       "0                            1 State Street      David Neiburg   \n",
       "1                            100 Church LLC  Edward A. Carroll   \n",
       "2                      100 Wall Investments       Jerry Branam   \n",
       "3               1-10 Bush Terminal Owner LP     Andrew Kimball   \n",
       "4  120 Broadway Acquisitions JV, LLC (Ldmk)        Carl Letich   \n",
       "\n",
       "               company email company phone                Address      City  \\\n",
       "0     eskoblo@energyspec.com    7186779077          1114 Avenue J  Brooklyn   \n",
       "1                        NaN    2125663000      100 Church Street        NY   \n",
       "2                        NaN    2122487160         96 Wall Street  New York   \n",
       "3  akimball@industrycity.com    3474178429  220 36th St, Suite 2A  Brooklyn   \n",
       "4      clettich@silvprop.com    2124064020           120 Broadway  New York   \n",
       "\n",
       "  State  Postcode    Industry  \\\n",
       "0    NY     11230  Commercial   \n",
       "1    NY     10007  Commercial   \n",
       "2    NY     10005    Landlord   \n",
       "3    NY     11232    Landlord   \n",
       "4    NY     10271  Commercial   \n",
       "\n",
       "                                      Industry descr  ...  \\\n",
       "0                                  35 story building  ...   \n",
       "1                                          21 Floors  ...   \n",
       "2                                                NaN  ...   \n",
       "3  Special Eligible Premises for eligible businesses  ...   \n",
       "4                                                NaN  ...   \n",
       "\n",
       "  Savings from beginning receiving benefits   Borough   Latitude  Longitude  \\\n",
       "0                                    349.78  Brooklyn  40.624784 -73.964920   \n",
       "1                                4423698.05  New York  40.712968 -74.009490   \n",
       "2                                1814542.62  New York  40.705052 -74.007199   \n",
       "3                                   6755.31  Brooklyn  40.656061 -74.007334   \n",
       "4                                3293055.08  New York  40.708546 -74.011041   \n",
       "\n",
       "  Community Board  Council District  Census Tract        BIN           BBL  \\\n",
       "0           314.0              44.0         534.0  3179818.0  3.067130e+09   \n",
       "1           101.0               1.0          21.0  1001409.0  1.001250e+09   \n",
       "2           101.0               1.0           7.0  1000875.0  1.000380e+09   \n",
       "3           307.0              38.0           2.0  3398687.0  3.006950e+09   \n",
       "4           101.0               1.0           7.0  1001026.0  1.000478e+09   \n",
       "\n",
       "                                      NTA  \n",
       "0                                 Midwood  \n",
       "1  SoHo-TriBeCa-Civic Center-Little Italy  \n",
       "2       Battery Park City-Lower Manhattan  \n",
       "3                        Sunset Park West  \n",
       "4       Battery Park City-Lower Manhattan  \n",
       "\n",
       "[5 rows x 26 columns]"
      ]
     },
     "execution_count": 2,
     "metadata": {},
     "output_type": "execute_result"
    }
   ],
   "source": [
    "data = pd.read_csv('Value_of_Energy_FY2020.csv')\n",
    "data.head()"
   ]
  },
  {
   "cell_type": "code",
   "execution_count": 3,
   "metadata": {},
   "outputs": [
    {
     "name": "stdout",
     "output_type": "stream",
     "text": [
      "<class 'pandas.core.frame.DataFrame'>\n",
      "RangeIndex: 450 entries, 0 to 449\n",
      "Data columns (total 26 columns):\n",
      "Company Name                                 450 non-null object\n",
      "company contact                              450 non-null object\n",
      "company email                                433 non-null object\n",
      "company phone                                450 non-null object\n",
      "Address                                      450 non-null object\n",
      "City                                         450 non-null object\n",
      "State                                        450 non-null object\n",
      "Postcode                                     450 non-null int64\n",
      "Industry                                     450 non-null object\n",
      "Industry descr                               434 non-null object\n",
      "Company Type                                 450 non-null object\n",
      "Current fulltime                             446 non-null float64\n",
      "Job created                                  11 non-null float64\n",
      "Job retain                                   14 non-null float64\n",
      "Effective Date                               450 non-null object\n",
      "Total Savings                                450 non-null float64\n",
      "Savings from beginning receiving benefits    450 non-null float64\n",
      "Borough                                      450 non-null object\n",
      "Latitude                                     409 non-null float64\n",
      "Longitude                                    409 non-null float64\n",
      "Community Board                              409 non-null float64\n",
      "Council District                             409 non-null float64\n",
      "Census Tract                                 409 non-null float64\n",
      "BIN                                          401 non-null float64\n",
      "BBL                                          401 non-null float64\n",
      "NTA                                          409 non-null object\n",
      "dtypes: float64(12), int64(1), object(13)\n",
      "memory usage: 91.5+ KB\n"
     ]
    }
   ],
   "source": [
    "data.info()"
   ]
  },
  {
   "cell_type": "code",
   "execution_count": 4,
   "metadata": {},
   "outputs": [
    {
     "data": {
      "text/html": [
       "<div>\n",
       "<style scoped>\n",
       "    .dataframe tbody tr th:only-of-type {\n",
       "        vertical-align: middle;\n",
       "    }\n",
       "\n",
       "    .dataframe tbody tr th {\n",
       "        vertical-align: top;\n",
       "    }\n",
       "\n",
       "    .dataframe thead th {\n",
       "        text-align: right;\n",
       "    }\n",
       "</style>\n",
       "<table border=\"1\" class=\"dataframe\">\n",
       "  <thead>\n",
       "    <tr style=\"text-align: right;\">\n",
       "      <th></th>\n",
       "      <th>Postcode</th>\n",
       "      <th>Current fulltime</th>\n",
       "      <th>Job created</th>\n",
       "      <th>Job retain</th>\n",
       "      <th>Total Savings</th>\n",
       "      <th>Savings from beginning receiving benefits</th>\n",
       "      <th>Latitude</th>\n",
       "      <th>Longitude</th>\n",
       "      <th>Community Board</th>\n",
       "      <th>Council District</th>\n",
       "      <th>Census Tract</th>\n",
       "      <th>BIN</th>\n",
       "      <th>BBL</th>\n",
       "    </tr>\n",
       "  </thead>\n",
       "  <tbody>\n",
       "    <tr>\n",
       "      <td>count</td>\n",
       "      <td>450.000000</td>\n",
       "      <td>446.000000</td>\n",
       "      <td>11.000000</td>\n",
       "      <td>14.000000</td>\n",
       "      <td>4.500000e+02</td>\n",
       "      <td>4.500000e+02</td>\n",
       "      <td>409.000000</td>\n",
       "      <td>409.000000</td>\n",
       "      <td>409.000000</td>\n",
       "      <td>409.000000</td>\n",
       "      <td>409.000000</td>\n",
       "      <td>4.010000e+02</td>\n",
       "      <td>4.010000e+02</td>\n",
       "    </tr>\n",
       "    <tr>\n",
       "      <td>mean</td>\n",
       "      <td>11024.124444</td>\n",
       "      <td>124.186099</td>\n",
       "      <td>13.545455</td>\n",
       "      <td>297.500000</td>\n",
       "      <td>3.943778e+04</td>\n",
       "      <td>4.234601e+05</td>\n",
       "      <td>40.722293</td>\n",
       "      <td>-73.942376</td>\n",
       "      <td>317.982885</td>\n",
       "      <td>27.823961</td>\n",
       "      <td>2049.080685</td>\n",
       "      <td>3.295894e+06</td>\n",
       "      <td>3.163398e+09</td>\n",
       "    </tr>\n",
       "    <tr>\n",
       "      <td>std</td>\n",
       "      <td>405.126704</td>\n",
       "      <td>392.750810</td>\n",
       "      <td>16.409532</td>\n",
       "      <td>778.404655</td>\n",
       "      <td>1.345949e+05</td>\n",
       "      <td>1.936066e+06</td>\n",
       "      <td>0.057503</td>\n",
       "      <td>0.065553</td>\n",
       "      <td>93.925749</td>\n",
       "      <td>10.984316</td>\n",
       "      <td>7784.674799</td>\n",
       "      <td>9.897776e+05</td>\n",
       "      <td>9.483943e+08</td>\n",
       "    </tr>\n",
       "    <tr>\n",
       "      <td>min</td>\n",
       "      <td>10001.000000</td>\n",
       "      <td>0.000000</td>\n",
       "      <td>2.000000</td>\n",
       "      <td>4.000000</td>\n",
       "      <td>-1.099101e+05</td>\n",
       "      <td>0.000000e+00</td>\n",
       "      <td>40.555080</td>\n",
       "      <td>-74.216206</td>\n",
       "      <td>101.000000</td>\n",
       "      <td>1.000000</td>\n",
       "      <td>1.000000</td>\n",
       "      <td>1.000811e+06</td>\n",
       "      <td>1.000220e+09</td>\n",
       "    </tr>\n",
       "    <tr>\n",
       "      <td>25%</td>\n",
       "      <td>11101.000000</td>\n",
       "      <td>11.000000</td>\n",
       "      <td>4.000000</td>\n",
       "      <td>15.500000</td>\n",
       "      <td>1.770948e+03</td>\n",
       "      <td>1.498421e+04</td>\n",
       "      <td>40.676351</td>\n",
       "      <td>-73.984843</td>\n",
       "      <td>301.000000</td>\n",
       "      <td>26.000000</td>\n",
       "      <td>20.000000</td>\n",
       "      <td>3.009889e+06</td>\n",
       "      <td>3.006320e+09</td>\n",
       "    </tr>\n",
       "    <tr>\n",
       "      <td>50%</td>\n",
       "      <td>11205.000000</td>\n",
       "      <td>28.000000</td>\n",
       "      <td>10.000000</td>\n",
       "      <td>42.000000</td>\n",
       "      <td>6.101215e+03</td>\n",
       "      <td>5.431184e+04</td>\n",
       "      <td>40.721144</td>\n",
       "      <td>-73.941706</td>\n",
       "      <td>307.000000</td>\n",
       "      <td>30.000000</td>\n",
       "      <td>199.000000</td>\n",
       "      <td>3.336903e+06</td>\n",
       "      <td>3.036760e+09</td>\n",
       "    </tr>\n",
       "    <tr>\n",
       "      <td>75%</td>\n",
       "      <td>11232.000000</td>\n",
       "      <td>76.000000</td>\n",
       "      <td>13.500000</td>\n",
       "      <td>160.750000</td>\n",
       "      <td>2.025603e+04</td>\n",
       "      <td>2.003667e+05</td>\n",
       "      <td>40.752096</td>\n",
       "      <td>-73.909345</td>\n",
       "      <td>402.000000</td>\n",
       "      <td>36.000000</td>\n",
       "      <td>543.000000</td>\n",
       "      <td>4.005076e+06</td>\n",
       "      <td>4.003930e+09</td>\n",
       "    </tr>\n",
       "    <tr>\n",
       "      <td>max</td>\n",
       "      <td>11693.000000</td>\n",
       "      <td>3878.000000</td>\n",
       "      <td>60.000000</td>\n",
       "      <td>2964.000000</td>\n",
       "      <td>1.568982e+06</td>\n",
       "      <td>3.351826e+07</td>\n",
       "      <td>40.890837</td>\n",
       "      <td>-73.743730</td>\n",
       "      <td>503.000000</td>\n",
       "      <td>51.000000</td>\n",
       "      <td>94201.000000</td>\n",
       "      <td>5.168823e+06</td>\n",
       "      <td>5.070670e+09</td>\n",
       "    </tr>\n",
       "  </tbody>\n",
       "</table>\n",
       "</div>"
      ],
      "text/plain": [
       "           Postcode  Current fulltime  Job created   Job retain  \\\n",
       "count    450.000000        446.000000    11.000000    14.000000   \n",
       "mean   11024.124444        124.186099    13.545455   297.500000   \n",
       "std      405.126704        392.750810    16.409532   778.404655   \n",
       "min    10001.000000          0.000000     2.000000     4.000000   \n",
       "25%    11101.000000         11.000000     4.000000    15.500000   \n",
       "50%    11205.000000         28.000000    10.000000    42.000000   \n",
       "75%    11232.000000         76.000000    13.500000   160.750000   \n",
       "max    11693.000000       3878.000000    60.000000  2964.000000   \n",
       "\n",
       "       Total Savings  Savings from beginning receiving benefits    Latitude  \\\n",
       "count   4.500000e+02                               4.500000e+02  409.000000   \n",
       "mean    3.943778e+04                               4.234601e+05   40.722293   \n",
       "std     1.345949e+05                               1.936066e+06    0.057503   \n",
       "min    -1.099101e+05                               0.000000e+00   40.555080   \n",
       "25%     1.770948e+03                               1.498421e+04   40.676351   \n",
       "50%     6.101215e+03                               5.431184e+04   40.721144   \n",
       "75%     2.025603e+04                               2.003667e+05   40.752096   \n",
       "max     1.568982e+06                               3.351826e+07   40.890837   \n",
       "\n",
       "        Longitude  Community Board  Council District  Census Tract  \\\n",
       "count  409.000000       409.000000        409.000000    409.000000   \n",
       "mean   -73.942376       317.982885         27.823961   2049.080685   \n",
       "std      0.065553        93.925749         10.984316   7784.674799   \n",
       "min    -74.216206       101.000000          1.000000      1.000000   \n",
       "25%    -73.984843       301.000000         26.000000     20.000000   \n",
       "50%    -73.941706       307.000000         30.000000    199.000000   \n",
       "75%    -73.909345       402.000000         36.000000    543.000000   \n",
       "max    -73.743730       503.000000         51.000000  94201.000000   \n",
       "\n",
       "                BIN           BBL  \n",
       "count  4.010000e+02  4.010000e+02  \n",
       "mean   3.295894e+06  3.163398e+09  \n",
       "std    9.897776e+05  9.483943e+08  \n",
       "min    1.000811e+06  1.000220e+09  \n",
       "25%    3.009889e+06  3.006320e+09  \n",
       "50%    3.336903e+06  3.036760e+09  \n",
       "75%    4.005076e+06  4.003930e+09  \n",
       "max    5.168823e+06  5.070670e+09  "
      ]
     },
     "execution_count": 4,
     "metadata": {},
     "output_type": "execute_result"
    }
   ],
   "source": [
    "data.describe()"
   ]
  },
  {
   "cell_type": "code",
   "execution_count": 5,
   "metadata": {},
   "outputs": [
    {
     "name": "stdout",
     "output_type": "stream",
     "text": [
      "There are 439 companies.\n"
     ]
    }
   ],
   "source": [
    "num_of_company_names = len(data['Company Name'].str.upper().unique())\n",
    "print(f'There are {num_of_company_names} companies.')"
   ]
  },
  {
   "cell_type": "code",
   "execution_count": 6,
   "metadata": {},
   "outputs": [
    {
     "data": {
      "text/plain": [
       "Brooklyn            170\n",
       "Queens               67\n",
       "Long Island City     53\n",
       "Bronx                35\n",
       "New York             32\n",
       "BROOKLYN             10\n",
       "Name: City, dtype: int64"
      ]
     },
     "execution_count": 6,
     "metadata": {},
     "output_type": "execute_result"
    }
   ],
   "source": [
    "data.City.value_counts().head(6)\n",
    "# We can see there are both lower and uppercase values for the same city."
   ]
  },
  {
   "cell_type": "code",
   "execution_count": 7,
   "metadata": {},
   "outputs": [
    {
     "name": "stdout",
     "output_type": "stream",
     "text": [
      "In Queens there were 90.0 jobs created.\n"
     ]
    }
   ],
   "source": [
    "queens = data.loc[data.City.str.upper() == 'QUEENS']\n",
    "num_of_jobs_created_in_queens = queens['Job created'].sum()\n",
    "print(f'In Queens there were {num_of_jobs_created_in_queens} jobs created.')"
   ]
  },
  {
   "cell_type": "code",
   "execution_count": 8,
   "metadata": {},
   "outputs": [
    {
     "data": {
      "text/plain": [
       "0        energyspec.com\n",
       "1                      \n",
       "2                      \n",
       "3      industrycity.com\n",
       "4          silvprop.com\n",
       "             ...       \n",
       "445      wontonfood.com\n",
       "446           gmail.com\n",
       "447            wwps.com\n",
       "448    wudfurniture.com\n",
       "449          wurtec.com\n",
       "Name: email_domain, Length: 450, dtype: object"
      ]
     },
     "execution_count": 8,
     "metadata": {},
     "output_type": "execute_result"
    }
   ],
   "source": [
    "data['email_domain'] = [e[-1] if type(e) == list else '' for e in data['company email'].str.split('@')]\n",
    "data['email_domain']\n",
    "# we can see there are blanks, so lets just subtract 1."
   ]
  },
  {
   "cell_type": "code",
   "execution_count": 9,
   "metadata": {},
   "outputs": [
    {
     "name": "stdout",
     "output_type": "stream",
     "text": [
      "There are 361 unique domains in the dataset.\n"
     ]
    }
   ],
   "source": [
    "number_of_unique_domains = len(data['email_domain'].str.upper().unique())\n",
    "print(f'There are {number_of_unique_domains-1} unique domains in the dataset.')"
   ]
  },
  {
   "cell_type": "code",
   "execution_count": 10,
   "metadata": {},
   "outputs": [
    {
     "data": {
      "text/html": [
       "<div>\n",
       "<style scoped>\n",
       "    .dataframe tbody tr th:only-of-type {\n",
       "        vertical-align: middle;\n",
       "    }\n",
       "\n",
       "    .dataframe tbody tr th {\n",
       "        vertical-align: top;\n",
       "    }\n",
       "\n",
       "    .dataframe thead th {\n",
       "        text-align: right;\n",
       "    }\n",
       "</style>\n",
       "<table border=\"1\" class=\"dataframe\">\n",
       "  <thead>\n",
       "    <tr style=\"text-align: right;\">\n",
       "      <th></th>\n",
       "      <th>Company Name</th>\n",
       "      <th>company contact</th>\n",
       "      <th>company email</th>\n",
       "      <th>company phone</th>\n",
       "      <th>Address</th>\n",
       "      <th>City</th>\n",
       "      <th>State</th>\n",
       "      <th>Postcode</th>\n",
       "      <th>Industry</th>\n",
       "      <th>Industry descr</th>\n",
       "      <th>...</th>\n",
       "      <th>Latitude</th>\n",
       "      <th>Longitude</th>\n",
       "      <th>Community Board</th>\n",
       "      <th>Council District</th>\n",
       "      <th>Census Tract</th>\n",
       "      <th>BIN</th>\n",
       "      <th>BBL</th>\n",
       "      <th>NTA</th>\n",
       "      <th>email_domain</th>\n",
       "      <th>NTA_count</th>\n",
       "    </tr>\n",
       "  </thead>\n",
       "  <tbody>\n",
       "  </tbody>\n",
       "</table>\n",
       "<p>0 rows × 28 columns</p>\n",
       "</div>"
      ],
      "text/plain": [
       "Empty DataFrame\n",
       "Columns: [Company Name, company contact, company email, company phone, Address, City, State, Postcode, Industry, Industry descr, Company Type, Current fulltime, Job created, Job retain, Effective Date, Total Savings, Savings from beginning receiving benefits, Borough, Latitude, Longitude, Community Board, Council District, Census Tract, BIN, BBL, NTA, email_domain, NTA_count]\n",
       "Index: []\n",
       "\n",
       "[0 rows x 28 columns]"
      ]
     },
     "execution_count": 10,
     "metadata": {},
     "output_type": "execute_result"
    }
   ],
   "source": [
    "data['NTA_count'] = data.NTA.str.count('-') + 1\n",
    "data_moreThan5NTA = data.loc[data['NTA_count'] >= 5]\n",
    "data_moreThan5NTA.head()"
   ]
  },
  {
   "cell_type": "code",
   "execution_count": 11,
   "metadata": {},
   "outputs": [],
   "source": [
    "questions = [1,2,3,'4a','4b']\n",
    "answers = [num_of_company_names, num_of_jobs_created_in_queens, number_of_unique_domains-1, 0, 0]\n",
    "output = pd.DataFrame(data = {\n",
    "    'questions' : questions,\n",
    "    'answers' : answers\n",
    "})\n",
    "\n",
    "output.to_csv('Day 4 Answers.csv', index = False)"
   ]
  },
  {
   "cell_type": "markdown",
   "metadata": {},
   "source": [
    "# Plotting Work"
   ]
  },
  {
   "cell_type": "code",
   "execution_count": 12,
   "metadata": {},
   "outputs": [
    {
     "data": {
      "image/png": "[encoded data removed]",
      "text/plain": [
       "<Figure size 432x288 with 1 Axes>"
      ]
     },
     "metadata": {
      "needs_background": "light"
     },
     "output_type": "display_data"
    }
   ],
   "source": [
    "# Jobs created versus average savings\n",
    "plt.scatter(data['Job created'], data['Total Savings'])\n",
    "plt.xlabel('Jobs Created')\n",
    "plt.ylabel('Total Savings')\n",
    "plt.show()"
   ]
  },
  {
   "cell_type": "code",
   "execution_count": 13,
   "metadata": {},
   "outputs": [
    {
     "data": {
      "image/png": "[encoded data removed]",
      "text/plain": [
       "<Figure size 432x288 with 1 Axes>"
      ]
     },
     "metadata": {
      "needs_background": "light"
     },
     "output_type": "display_data"
    }
   ],
   "source": [
    "plt.scatter(data['Job created'], data['Total Savings'])\n",
    "plt.xlabel('Jobs Created (Log)')\n",
    "plt.ylabel('Total Savings')\n",
    "plt.xscale('log')\n",
    "plt.show()"
   ]
  },
  {
   "cell_type": "code",
   "execution_count": 14,
   "metadata": {},
   "outputs": [
    {
     "data": {
      "image/png": "[encoded data removed]",
      "text/plain": [
       "<Figure size 432x288 with 1 Axes>"
      ]
     },
     "metadata": {
      "needs_background": "light"
     },
     "output_type": "display_data"
    }
   ],
   "source": [
    "# histogram of the log of the average total savings.\n",
    "plt.hist(data.loc[data['Total Savings'] > 0]['Total Savings'].apply(math.log))\n",
    "plt.xlabel('Log(Total Savings)')\n",
    "plt.ylabel('Frequency')\n",
    "plt.show()"
   ]
  },
  {
   "cell_type": "code",
   "execution_count": 15,
   "metadata": {},
   "outputs": [
    {
     "data": {
      "image/png": "[encoded data removed]",
      "text/plain": [
       "<Figure size 432x288 with 1 Axes>"
      ]
     },
     "metadata": {
      "needs_background": "light"
     },
     "output_type": "display_data"
    }
   ],
   "source": [
    "# line plot of the total jobs created for each month.\n",
    "data['effective_day_month'] = pd.to_datetime(data['Effective Date']).dt.strftime('%m')\n",
    "month_by_sum_of_job_creation = data.groupby('effective_day_month')['Job created'].agg('sum')\n",
    "plt.plot(month_by_sum_of_job_creation)\n",
    "plt.xlabel('Month')\n",
    "plt.ylabel('Total Jobs Created')\n",
    "plt.show()"
   ]
  },
  {
   "cell_type": "code",
   "execution_count": null,
   "metadata": {},
   "outputs": [],
   "source": []
  }
 ],
 "metadata": {
  "kernelspec": {
   "display_name": "Python 3",
   "language": "python",
   "name": "python3"
  },
  "language_info": {
   "codemirror_mode": {
    "name": "ipython",
    "version": 3
   },
   "file_extension": ".py",
   "mimetype": "text/x-python",
   "name": "python",
   "nbconvert_exporter": "python",
   "pygments_lexer": "ipython3",
   "version": "3.7.4"
  }
 },
 "nbformat": 4,
 "nbformat_minor": 2
}
